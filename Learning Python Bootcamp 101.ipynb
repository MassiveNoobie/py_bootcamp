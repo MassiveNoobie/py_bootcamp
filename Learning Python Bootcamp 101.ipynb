{
 "cells": [
  {
   "cell_type": "code",
   "execution_count": 1,
   "id": "aa7b6792",
   "metadata": {},
   "outputs": [],
   "source": [
    "# comments"
   ]
  },
  {
   "cell_type": "markdown",
   "id": "92bede2f",
   "metadata": {},
   "source": [
    "## Numbers\n",
    "Using numbers in python and math."
   ]
  },
  {
   "cell_type": "code",
   "execution_count": 2,
   "id": "75683c87",
   "metadata": {},
   "outputs": [
    {
     "data": {
      "text/plain": [
       "1"
      ]
     },
     "execution_count": 2,
     "metadata": {},
     "output_type": "execute_result"
    }
   ],
   "source": [
    "# int\n",
    "1"
   ]
  },
  {
   "cell_type": "code",
   "execution_count": 3,
   "id": "e753a5ce",
   "metadata": {},
   "outputs": [
    {
     "data": {
      "text/plain": [
       "1.0"
      ]
     },
     "execution_count": 3,
     "metadata": {},
     "output_type": "execute_result"
    }
   ],
   "source": [
    "# float\n",
    "1.0"
   ]
  },
  {
   "cell_type": "code",
   "execution_count": 4,
   "id": "de4b6c46",
   "metadata": {},
   "outputs": [
    {
     "data": {
      "text/plain": [
       "2"
      ]
     },
     "execution_count": 4,
     "metadata": {},
     "output_type": "execute_result"
    }
   ],
   "source": [
    "# addition\n",
    "1+1"
   ]
  },
  {
   "cell_type": "code",
   "execution_count": 5,
   "id": "91400c70",
   "metadata": {},
   "outputs": [
    {
     "data": {
      "text/plain": [
       "3"
      ]
     },
     "execution_count": 5,
     "metadata": {},
     "output_type": "execute_result"
    }
   ],
   "source": [
    "# multiplication\n",
    "1*3"
   ]
  },
  {
   "cell_type": "code",
   "execution_count": 6,
   "id": "20bf140a",
   "metadata": {},
   "outputs": [
    {
     "data": {
      "text/plain": [
       "0.5"
      ]
     },
     "execution_count": 6,
     "metadata": {},
     "output_type": "execute_result"
    }
   ],
   "source": [
    "# python 2 division\n",
    "1/2.0\n",
    "# python 3\n",
    "1/2"
   ]
  },
  {
   "cell_type": "code",
   "execution_count": 7,
   "id": "36593d8b",
   "metadata": {},
   "outputs": [
    {
     "data": {
      "text/plain": [
       "16"
      ]
     },
     "execution_count": 7,
     "metadata": {},
     "output_type": "execute_result"
    }
   ],
   "source": [
    "# two to the power of 4\n",
    "2 ** 4"
   ]
  },
  {
   "cell_type": "code",
   "execution_count": 8,
   "id": "f7204f29",
   "metadata": {},
   "outputs": [
    {
     "data": {
      "text/plain": [
       "0"
      ]
     },
     "execution_count": 8,
     "metadata": {},
     "output_type": "execute_result"
    }
   ],
   "source": [
    "# mod function\n",
    "# if zero then even number\n",
    "4 % 2"
   ]
  },
  {
   "cell_type": "code",
   "execution_count": 9,
   "id": "4a94d66f",
   "metadata": {},
   "outputs": [
    {
     "data": {
      "text/plain": [
       "1"
      ]
     },
     "execution_count": 9,
     "metadata": {},
     "output_type": "execute_result"
    }
   ],
   "source": [
    "# remainder left over is 1\n",
    "5 % 2"
   ]
  },
  {
   "cell_type": "code",
   "execution_count": 10,
   "id": "9a43fa39",
   "metadata": {},
   "outputs": [
    {
     "data": {
      "text/plain": [
       "2.5"
      ]
     },
     "execution_count": 10,
     "metadata": {},
     "output_type": "execute_result"
    }
   ],
   "source": [
    "5 / 2"
   ]
  },
  {
   "cell_type": "markdown",
   "id": "f7bcc598",
   "metadata": {},
   "source": [
    "## Variables\n",
    "Using variables in python."
   ]
  },
  {
   "cell_type": "code",
   "execution_count": 11,
   "id": "df1f3648",
   "metadata": {},
   "outputs": [
    {
     "name": "stdout",
     "output_type": "stream",
     "text": [
      "16\n",
      "54\n"
     ]
    }
   ],
   "source": [
    "# without () ouputs like normal math\n",
    "xx = 4 + 2 * 3 + 6\n",
    "print (xx)\n",
    "# with () ouputs like normal math\n",
    "yy = (4 + 2) * (3 + 6)\n",
    "print (yy)"
   ]
  },
  {
   "cell_type": "code",
   "execution_count": 12,
   "id": "fbed37ca",
   "metadata": {},
   "outputs": [],
   "source": [
    "var = 2"
   ]
  },
  {
   "cell_type": "code",
   "execution_count": 13,
   "id": "4130ca01",
   "metadata": {},
   "outputs": [
    {
     "data": {
      "text/plain": [
       "2"
      ]
     },
     "execution_count": 13,
     "metadata": {},
     "output_type": "execute_result"
    }
   ],
   "source": [
    "# you can output in jupyter like\n",
    "var"
   ]
  },
  {
   "cell_type": "code",
   "execution_count": 14,
   "id": "c8f21d71",
   "metadata": {},
   "outputs": [
    {
     "name": "stdout",
     "output_type": "stream",
     "text": [
      "2\n"
     ]
    }
   ],
   "source": [
    "# however, print() is the common practice\n",
    "print(var)"
   ]
  },
  {
   "cell_type": "code",
   "execution_count": 15,
   "id": "3d9a350f",
   "metadata": {},
   "outputs": [],
   "source": [
    "x = 2\n",
    "y = 3"
   ]
  },
  {
   "cell_type": "code",
   "execution_count": 16,
   "id": "3b9a5e0c",
   "metadata": {},
   "outputs": [
    {
     "data": {
      "text/plain": [
       "5"
      ]
     },
     "execution_count": 16,
     "metadata": {},
     "output_type": "execute_result"
    }
   ],
   "source": [
    "x+y"
   ]
  },
  {
   "cell_type": "code",
   "execution_count": 17,
   "id": "88f55398",
   "metadata": {},
   "outputs": [],
   "source": [
    "x = x+x"
   ]
  },
  {
   "cell_type": "code",
   "execution_count": 18,
   "id": "0b0f4983",
   "metadata": {},
   "outputs": [
    {
     "data": {
      "text/plain": [
       "4"
      ]
     },
     "execution_count": 18,
     "metadata": {},
     "output_type": "execute_result"
    }
   ],
   "source": [
    "x"
   ]
  },
  {
   "cell_type": "code",
   "execution_count": 19,
   "id": "5686952a",
   "metadata": {},
   "outputs": [],
   "source": [
    "x = x+x"
   ]
  },
  {
   "cell_type": "code",
   "execution_count": 20,
   "id": "2b737647",
   "metadata": {},
   "outputs": [
    {
     "data": {
      "text/plain": [
       "8"
      ]
     },
     "execution_count": 20,
     "metadata": {},
     "output_type": "execute_result"
    }
   ],
   "source": [
    "x"
   ]
  },
  {
   "cell_type": "code",
   "execution_count": 21,
   "id": "7bf3b5c2",
   "metadata": {},
   "outputs": [
    {
     "ename": "SyntaxError",
     "evalue": "invalid syntax (<ipython-input-21-82b7c26456e4>, line 2)",
     "output_type": "error",
     "traceback": [
      "\u001b[1;36m  File \u001b[1;32m\"<ipython-input-21-82b7c26456e4>\"\u001b[1;36m, line \u001b[1;32m2\u001b[0m\n\u001b[1;33m    111var = 5\u001b[0m\n\u001b[1;37m       ^\u001b[0m\n\u001b[1;31mSyntaxError\u001b[0m\u001b[1;31m:\u001b[0m invalid syntax\n"
     ]
    }
   ],
   "source": [
    "# variables can not start with numbers\n",
    "111var = 5"
   ]
  },
  {
   "cell_type": "code",
   "execution_count": null,
   "id": "660ad103",
   "metadata": {},
   "outputs": [],
   "source": [
    "# proper variables use \"snake_case\"\n",
    "the_variable_name = 5"
   ]
  },
  {
   "cell_type": "markdown",
   "id": "05c4c8eb",
   "metadata": {},
   "source": [
    "## Strings\n",
    "Strings in python work like..."
   ]
  },
  {
   "cell_type": "code",
   "execution_count": null,
   "id": "ee4b16ff",
   "metadata": {},
   "outputs": [],
   "source": [
    "# string with '' quotes\n",
    "'single quotes'"
   ]
  },
  {
   "cell_type": "code",
   "execution_count": null,
   "id": "0fc661b8",
   "metadata": {},
   "outputs": [],
   "source": [
    "# string with \"\" quotes\n",
    "\"double quotes\""
   ]
  },
  {
   "cell_type": "code",
   "execution_count": null,
   "id": "ee9728b1",
   "metadata": {},
   "outputs": [],
   "source": [
    "# string with a single ' and \"\" wrapping\n",
    "\"double's quote\""
   ]
  },
  {
   "cell_type": "code",
   "execution_count": null,
   "id": "cd489665",
   "metadata": {},
   "outputs": [],
   "source": [
    "# string with a single \" and '' wrapping\n",
    "'single\"s quote'"
   ]
  },
  {
   "cell_type": "markdown",
   "id": "4c38aa1c",
   "metadata": {},
   "source": [
    "## Using variables with strings\n",
    "Strings/numbers and their usage with variables."
   ]
  },
  {
   "cell_type": "code",
   "execution_count": null,
   "id": "9c3a8927",
   "metadata": {},
   "outputs": [],
   "source": [
    "# printing\n",
    "to_print = \"hi wrold\""
   ]
  },
  {
   "cell_type": "code",
   "execution_count": null,
   "id": "6b6d446e",
   "metadata": {},
   "outputs": [],
   "source": [
    "# works in jupyter\n",
    "to_print"
   ]
  },
  {
   "cell_type": "code",
   "execution_count": null,
   "id": "4ce8b383",
   "metadata": {},
   "outputs": [],
   "source": [
    "# common practice\n",
    "print(to_print)"
   ]
  },
  {
   "cell_type": "code",
   "execution_count": null,
   "id": "522dfd01",
   "metadata": {},
   "outputs": [],
   "source": [
    "# using variable names in format()\n",
    "num = 15\n",
    "name = 'Tyler'\n",
    "title = 'The Beast'\n",
    "# format(order,you,want,variables_to_pass_in_brace_brackets)\n",
    "print('My fave # is {} and my name is {}, {}'.format(num,name,title))\n",
    "# here we can re-use without worrying about order\n",
    "print('My fave # is {one} and my name is {two}, {three} named {two}-zilla-g'.format(one=num,two=name,three=title))"
   ]
  },
  {
   "cell_type": "code",
   "execution_count": null,
   "id": "5ec7d05c",
   "metadata": {},
   "outputs": [],
   "source": [
    "s='hello'"
   ]
  },
  {
   "cell_type": "code",
   "execution_count": null,
   "id": "1e89429c",
   "metadata": {},
   "outputs": [],
   "source": [
    "# indexing starts at zero\n",
    "# counting in python starts with zero, then one, two, etc.\n",
    "s[0]"
   ]
  },
  {
   "cell_type": "code",
   "execution_count": null,
   "id": "3b9c80af",
   "metadata": {},
   "outputs": [],
   "source": [
    "# grabbing \"o\" from hello.\n",
    "s[4]"
   ]
  },
  {
   "cell_type": "code",
   "execution_count": null,
   "id": "11834e2c",
   "metadata": {},
   "outputs": [],
   "source": [
    "# how it's done using numbers, in a list, a little similar\n",
    "g=[0,1,2,3]"
   ]
  },
  {
   "cell_type": "code",
   "execution_count": null,
   "id": "99b08c16",
   "metadata": {},
   "outputs": [],
   "source": [
    "g[2]"
   ]
  },
  {
   "cell_type": "markdown",
   "id": "ade7f3e7",
   "metadata": {},
   "source": [
    "## Trimming a string.\n",
    "Trimming strings in python and examples."
   ]
  },
  {
   "cell_type": "code",
   "execution_count": null,
   "id": "e773a835",
   "metadata": {},
   "outputs": [],
   "source": [
    "# r is a sequence of elements\n",
    "r='asfghjkl'\n",
    "# [number:number] lets you grab a sequence of elements\n",
    "# column notation, aka 'slice syntax'\n",
    "# trim 1 letter from the left\n",
    "r[1:]"
   ]
  },
  {
   "cell_type": "code",
   "execution_count": null,
   "id": "9dfa3072",
   "metadata": {},
   "outputs": [],
   "source": [
    "# trim 3 letter from the right\n",
    "r[:3]"
   ]
  },
  {
   "cell_type": "code",
   "execution_count": null,
   "id": "d6c82012",
   "metadata": {},
   "outputs": [],
   "source": [
    "# adding negative reverses the trim direction\n",
    "# example; trim 3 letter from the left\n",
    "r[:-3]"
   ]
  },
  {
   "cell_type": "code",
   "execution_count": null,
   "id": "20d2bb46",
   "metadata": {},
   "outputs": [],
   "source": [
    "# trim 3 letter from the left\n",
    "r[3:]"
   ]
  },
  {
   "cell_type": "code",
   "execution_count": null,
   "id": "7004fa33",
   "metadata": {},
   "outputs": [],
   "source": [
    "# adding negative reverses the trim starting direction\n",
    "# example; trim 3 letter from the left\n",
    "r[-3:]"
   ]
  },
  {
   "cell_type": "code",
   "execution_count": null,
   "id": "ae1094f1",
   "metadata": {},
   "outputs": [],
   "source": [
    "r[2:5]"
   ]
  },
  {
   "cell_type": "markdown",
   "id": "5023cd22",
   "metadata": {},
   "source": [
    "## Lists\n",
    "Using a list in python with examples."
   ]
  },
  {
   "cell_type": "code",
   "execution_count": null,
   "id": "e616ec3e",
   "metadata": {},
   "outputs": [],
   "source": [
    "# lists numbers\n",
    "[1,2,3]"
   ]
  },
  {
   "cell_type": "code",
   "execution_count": null,
   "id": "0324d0c6",
   "metadata": {},
   "outputs": [],
   "source": [
    "# lists strings\n",
    "['a','b','c']"
   ]
  },
  {
   "cell_type": "code",
   "execution_count": null,
   "id": "88e0f667",
   "metadata": {},
   "outputs": [],
   "source": [
    "# variable with string list\n",
    "a_cool_list = ['a','b','c']\n",
    "# appending 'meow'\n",
    "a_cool_list.append('meow')\n",
    "print (a_cool_list)\n",
    "# removing 'meow'\n",
    "a_cool_list.remove('meow')\n",
    "print (a_cool_list)"
   ]
  },
  {
   "cell_type": "code",
   "execution_count": null,
   "id": "0c29c873",
   "metadata": {},
   "outputs": [],
   "source": [
    "# appending 'd'\n",
    "a_cool_list.append('d')\n",
    "# print to check change\n",
    "print (a_cool_list)\n",
    "a_cool_list.append('e')\n",
    "# print to check change\n",
    "print (a_cool_list)\n",
    "a_cool_list.append('f')\n",
    "# print to check change\n",
    "print (a_cool_list)"
   ]
  },
  {
   "cell_type": "code",
   "execution_count": null,
   "id": "1549bfa8",
   "metadata": {},
   "outputs": [],
   "source": [
    "# trim both sides of the list\n",
    "a_cool_list[2:5]"
   ]
  },
  {
   "cell_type": "code",
   "execution_count": null,
   "id": "6f6c59f3",
   "metadata": {},
   "outputs": [],
   "source": [
    "# change the value in the list based on index #\\\n",
    "a_cool_list[0] = 'Meow'\n",
    "a_cool_list"
   ]
  },
  {
   "cell_type": "markdown",
   "id": "7c76ed7c",
   "metadata": {},
   "source": [
    "## Tuples vs lists vs sets\n",
    "Tuples can't be changed, lists can be changed. Use tuple when user can't change what's inside of object."
   ]
  },
  {
   "cell_type": "code",
   "execution_count": null,
   "id": "c0519587",
   "metadata": {},
   "outputs": [],
   "source": [
    "# tuple ()\n",
    "t = ('new','car','vroom')\n",
    "# list []\n",
    "l = ['new','car','vroom']\n",
    "\n",
    "# attempting to change first value in tuple\n",
    "# tuples can not be changed, will fail, see error\n",
    "# items in tuple can not be mutated\n",
    "t[0] = 'fast'"
   ]
  },
  {
   "cell_type": "code",
   "execution_count": null,
   "id": "ad9536ec",
   "metadata": {},
   "outputs": [],
   "source": [
    "# change first value to 'fast'\n",
    "# lists can be changed\n",
    "l[0] = 'fast'\n",
    "# print list to see change\n",
    "print(l)"
   ]
  },
  {
   "cell_type": "code",
   "execution_count": null,
   "id": "ed88c267",
   "metadata": {},
   "outputs": [],
   "source": [
    "# sets [], a set only passes unique elements when printed\n",
    "# sets are a collection of unique elements\n",
    "# vroom 2 will be removed in s\n",
    "s = {'new','car','vroom','vroom'} \n",
    "# print to see vroom removed\n",
    "print(s)"
   ]
  },
  {
   "cell_type": "code",
   "execution_count": null,
   "id": "269a25e4",
   "metadata": {},
   "outputs": [],
   "source": [
    "# adding 5 to set\n",
    "s.add(5)\n",
    "print(s)"
   ]
  },
  {
   "cell_type": "code",
   "execution_count": null,
   "id": "63de172b",
   "metadata": {},
   "outputs": [],
   "source": [
    "# convert list to set with set()\n",
    "convert = set([1,1,1,1,1,12,2,3,4,5,5,5,5,5,55,33])\n",
    "# print to see unique elements.\n",
    "print(convert)"
   ]
  },
  {
   "cell_type": "markdown",
   "id": "0c34289f",
   "metadata": {},
   "source": [
    "##  Dictonary\n",
    "A dictonary in python. Dictonary do not retain an order, they are key value paired mappings. "
   ]
  },
  {
   "cell_type": "code",
   "execution_count": null,
   "id": "10743532",
   "metadata": {},
   "outputs": [],
   "source": [
    "d = {'key1':'value','key2':123}\n",
    "d['key2']"
   ]
  },
  {
   "cell_type": "code",
   "execution_count": null,
   "id": "76440772",
   "metadata": {},
   "outputs": [],
   "source": [
    "d['key1']"
   ]
  },
  {
   "cell_type": "code",
   "execution_count": null,
   "id": "40dab53e",
   "metadata": {},
   "outputs": [],
   "source": [
    "d={'k1':[1,2,3]}"
   ]
  },
  {
   "cell_type": "code",
   "execution_count": null,
   "id": "1f6f57e0",
   "metadata": {},
   "outputs": [],
   "source": [
    "d"
   ]
  },
  {
   "cell_type": "code",
   "execution_count": null,
   "id": "ab6272f2",
   "metadata": {},
   "outputs": [],
   "source": [
    "d['k1']"
   ]
  },
  {
   "cell_type": "code",
   "execution_count": null,
   "id": "3f61ac30",
   "metadata": {},
   "outputs": [],
   "source": [
    "print(d['k1'][1])\n",
    "a_list = d['k1']"
   ]
  },
  {
   "cell_type": "code",
   "execution_count": null,
   "id": "53d13b45",
   "metadata": {},
   "outputs": [],
   "source": [
    "a_list[1]"
   ]
  },
  {
   "cell_type": "code",
   "execution_count": null,
   "id": "d83ff998",
   "metadata": {},
   "outputs": [],
   "source": []
  },
  {
   "cell_type": "markdown",
   "id": "9a8e8da5",
   "metadata": {},
   "source": [
    "## Comparison operators\n",
    "Comparison operators allow you to compare two elements to each other, and booleans."
   ]
  },
  {
   "cell_type": "code",
   "execution_count": null,
   "id": "6befcf96",
   "metadata": {},
   "outputs": [],
   "source": [
    "1 > 3"
   ]
  },
  {
   "cell_type": "code",
   "execution_count": null,
   "id": "9d80da21",
   "metadata": {},
   "outputs": [],
   "source": [
    "1 < 3"
   ]
  },
  {
   "cell_type": "code",
   "execution_count": null,
   "id": "0d6682e1",
   "metadata": {},
   "outputs": [],
   "source": [
    "1 >= 3"
   ]
  },
  {
   "cell_type": "code",
   "execution_count": null,
   "id": "f8619da9",
   "metadata": {},
   "outputs": [],
   "source": [
    "1 <= 3"
   ]
  },
  {
   "cell_type": "code",
   "execution_count": null,
   "id": "4a897f78",
   "metadata": {},
   "outputs": [],
   "source": [
    "1 == 3"
   ]
  },
  {
   "cell_type": "code",
   "execution_count": null,
   "id": "18073f8a",
   "metadata": {},
   "outputs": [],
   "source": [
    "1 = 1"
   ]
  },
  {
   "cell_type": "code",
   "execution_count": null,
   "id": "a73ce06f",
   "metadata": {},
   "outputs": [],
   "source": [
    "1 != 3"
   ]
  },
  {
   "cell_type": "code",
   "execution_count": null,
   "id": "00b47f43",
   "metadata": {},
   "outputs": [],
   "source": [
    "'hi' != 'bye'"
   ]
  },
  {
   "cell_type": "code",
   "execution_count": null,
   "id": "d445520e",
   "metadata": {},
   "outputs": [],
   "source": [
    "1 < 2 and 2 < 3"
   ]
  },
  {
   "cell_type": "code",
   "execution_count": null,
   "id": "42cc85ba",
   "metadata": {},
   "outputs": [],
   "source": [
    "1 < 2 and 2 > 3"
   ]
  },
  {
   "cell_type": "code",
   "execution_count": null,
   "id": "e50f7df3",
   "metadata": {},
   "outputs": [],
   "source": [
    "# more readable\n",
    "(1 < 2) or (2 < 1)"
   ]
  },
  {
   "cell_type": "code",
   "execution_count": null,
   "id": "13284369",
   "metadata": {},
   "outputs": [],
   "source": [
    "# more readable\n",
    "(1 < 2) and (2 < 1)"
   ]
  },
  {
   "cell_type": "code",
   "execution_count": null,
   "id": "53b9abd4",
   "metadata": {},
   "outputs": [],
   "source": [
    "True and True"
   ]
  },
  {
   "cell_type": "code",
   "execution_count": null,
   "id": "606bd57c",
   "metadata": {},
   "outputs": [],
   "source": [
    "False or True"
   ]
  },
  {
   "cell_type": "markdown",
   "id": "14666551",
   "metadata": {},
   "source": [
    "## If statement\n",
    "If then else..."
   ]
  },
  {
   "cell_type": "code",
   "execution_count": null,
   "id": "532f2af9",
   "metadata": {},
   "outputs": [],
   "source": [
    "if 1<2:\n",
    "    print('woot!')"
   ]
  },
  {
   "cell_type": "code",
   "execution_count": null,
   "id": "9518959e",
   "metadata": {},
   "outputs": [],
   "source": [
    "if True:\n",
    "    print('output code')"
   ]
  },
  {
   "cell_type": "code",
   "execution_count": null,
   "id": "0aff719f",
   "metadata": {},
   "outputs": [],
   "source": [
    "# needs to be uppercase first letter\n",
    "if true:\n",
    "    print('output code')"
   ]
  },
  {
   "cell_type": "code",
   "execution_count": null,
   "id": "1f047d39",
   "metadata": {},
   "outputs": [],
   "source": [
    "if 1 == 2:\n",
    "    print ('tyker')\n",
    "else:\n",
    "    print ('garr3ttt')"
   ]
  },
  {
   "cell_type": "code",
   "execution_count": null,
   "id": "2f74d771",
   "metadata": {},
   "outputs": [],
   "source": [
    "# python only executes the first true statement, and that's all.\n",
    "if 1 == 2:\n",
    "    print ('tyker')\n",
    "elif 'meow' == 'meow':\n",
    "    print ('m3ow')\n",
    "elif 3 == 3:\n",
    "    print ('alexand3r')\n",
    "else:\n",
    "    print ('garr3ttt')"
   ]
  },
  {
   "cell_type": "markdown",
   "id": "b1ea59c2",
   "metadata": {},
   "source": [
    "## for loop"
   ]
  },
  {
   "cell_type": "code",
   "execution_count": null,
   "id": "72432b56",
   "metadata": {},
   "outputs": [],
   "source": [
    "seq = [1,2,3,4,5,6,7,8,9]"
   ]
  },
  {
   "cell_type": "code",
   "execution_count": null,
   "id": "3749e90a",
   "metadata": {},
   "outputs": [],
   "source": [
    "for i in seq:\n",
    "    print(i)"
   ]
  },
  {
   "cell_type": "code",
   "execution_count": null,
   "id": "e867fd4f",
   "metadata": {},
   "outputs": [],
   "source": [
    "for number in seq:\n",
    "    print(number)"
   ]
  },
  {
   "cell_type": "code",
   "execution_count": null,
   "id": "c1e45db5",
   "metadata": {},
   "outputs": [],
   "source": [
    "# while loops\n",
    "# execute a loop, as long as the condition is true.\n",
    "i = 1\n",
    "# i < 10 is the condition that needs to be true for the loop to run\n",
    "while i < 10:\n",
    "    # printing each loop the following\n",
    "    print ('You gained ${a}.00 USD'.format(a=i))\n",
    "    # increases +1 per loop, until it reaches 10<10 which is not true\n",
    "    i = i+1"
   ]
  },
  {
   "cell_type": "code",
   "execution_count": null,
   "id": "a36f6d3e",
   "metadata": {},
   "outputs": [],
   "source": [
    "i = 1\n",
    "c = 10\n",
    "while i < c:\n",
    "    print ('You gained ${}.00 USD, out of ${}.00 total'.format(i, c))\n",
    "    i = i+1"
   ]
  },
  {
   "cell_type": "markdown",
   "id": "a7e0eae6",
   "metadata": {},
   "source": [
    "## For loop and Range"
   ]
  },
  {
   "cell_type": "code",
   "execution_count": null,
   "id": "8cfb05e0",
   "metadata": {},
   "outputs": [],
   "source": [
    "m = [1,2,3,4,5,5]\n",
    "for x in m:\n",
    "    print(x)"
   ]
  },
  {
   "cell_type": "code",
   "execution_count": null,
   "id": "12d93c44",
   "metadata": {},
   "outputs": [],
   "source": [
    "# using a list generator, range()\n",
    "for x in range(0,5):\n",
    "    print(x)"
   ]
  },
  {
   "cell_type": "code",
   "execution_count": null,
   "id": "2268b6a5",
   "metadata": {},
   "outputs": [],
   "source": [
    "# using a list generator, range()\n",
    "for x in list(range(0,5)):\n",
    "    print(x)"
   ]
  },
  {
   "cell_type": "code",
   "execution_count": null,
   "id": "28c0cc36",
   "metadata": {},
   "outputs": [],
   "source": [
    "list(range(0,6))"
   ]
  },
  {
   "cell_type": "code",
   "execution_count": null,
   "id": "18be0b85",
   "metadata": {},
   "outputs": [],
   "source": [
    "list(range(10))"
   ]
  },
  {
   "cell_type": "code",
   "execution_count": null,
   "id": "de5c6992",
   "metadata": {},
   "outputs": [],
   "source": [
    "list(range(1,11))"
   ]
  },
  {
   "cell_type": "markdown",
   "id": "5475dd6f",
   "metadata": {},
   "source": [
    "## List comprehension\n",
    "List comprehension - save writing when you're creating a for loop to create a list"
   ]
  },
  {
   "cell_type": "code",
   "execution_count": null,
   "id": "47353f10",
   "metadata": {},
   "outputs": [],
   "source": [
    "# for loop can be used, however list comprehension below is 1 line\n",
    "# a list of numbers (num)\n",
    "h = [1,2,3,4]\n",
    "# defining a list \"out\"\n",
    "out = []\n",
    "\n",
    "for num in h:\n",
    "    out.append(num**2)\n",
    "\n",
    "print(out)"
   ]
  },
  {
   "cell_type": "code",
   "execution_count": null,
   "id": "3544bdcc",
   "metadata": {},
   "outputs": [],
   "source": [
    "io = [num**2 for num in h]\n",
    "print(io)"
   ]
  },
  {
   "cell_type": "code",
   "execution_count": null,
   "id": "cf1c1e9c",
   "metadata": {},
   "outputs": [],
   "source": [
    "[num**2 for num in h]"
   ]
  },
  {
   "cell_type": "markdown",
   "id": "e4acfabe",
   "metadata": {},
   "source": [
    "## Functions\n",
    "A function in python helps you write less code."
   ]
  },
  {
   "cell_type": "code",
   "execution_count": null,
   "id": "7e883008",
   "metadata": {},
   "outputs": [],
   "source": [
    "def my_function(param1):\n",
    "    print(param1)"
   ]
  },
  {
   "cell_type": "code",
   "execution_count": null,
   "id": "c17c1b21",
   "metadata": {},
   "outputs": [],
   "source": [
    "my_function('hey world')"
   ]
  },
  {
   "cell_type": "code",
   "execution_count": null,
   "id": "84019f79",
   "metadata": {},
   "outputs": [],
   "source": [
    "def my_func(name):\n",
    "    print(\"hi \"+name+\"'s world.\")\n",
    "my_func('tyl23r')"
   ]
  },
  {
   "cell_type": "code",
   "execution_count": null,
   "id": "e1e68267",
   "metadata": {},
   "outputs": [],
   "source": [
    "# function with a return and multi line comment ie; docstring\n",
    "def plus_five(num):\n",
    "    \"\"\"\n",
    "    adds five to a number\n",
    "    \"\"\"\n",
    "    return num+5\n",
    "\n",
    "output = plus_five(5000)\n",
    "print(output)"
   ]
  },
  {
   "cell_type": "code",
   "execution_count": null,
   "id": "00332c6f",
   "metadata": {},
   "outputs": [],
   "source": [
    "# shift + plus shows comments above \n",
    "plus_five"
   ]
  },
  {
   "cell_type": "code",
   "execution_count": 23,
   "id": "19c18767",
   "metadata": {},
   "outputs": [
    {
     "name": "stdout",
     "output_type": "stream",
     "text": [
      "[1, 2, 3, 4, 5]\n"
     ]
    }
   ],
   "source": [
    "def times2(var):\n",
    "    \"\"\"\n",
    "    multiplies var by 2\n",
    "    \"\"\"\n",
    "    return var*2\n",
    "seqtwo = [1,2,3,4,5]\n",
    "print(seqtwo)"
   ]
  },
  {
   "cell_type": "code",
   "execution_count": null,
   "id": "2b5e7392",
   "metadata": {},
   "outputs": [],
   "source": [
    "print(times2(2))"
   ]
  },
  {
   "cell_type": "code",
   "execution_count": 24,
   "id": "86f7c512",
   "metadata": {},
   "outputs": [
    {
     "name": "stdout",
     "output_type": "stream",
     "text": [
      "<map object at 0x0000027E4D6B5A00>\n"
     ]
    },
    {
     "data": {
      "text/plain": [
       "[2, 4, 6, 8, 10]"
      ]
     },
     "execution_count": 24,
     "metadata": {},
     "output_type": "execute_result"
    }
   ],
   "source": [
    "print(map(times2, seqtwo))\n",
    "list(map(times2, seqtwo))"
   ]
  },
  {
   "cell_type": "code",
   "execution_count": 25,
   "id": "208af2b3",
   "metadata": {},
   "outputs": [
    {
     "data": {
      "text/plain": [
       "[<map at 0x27e4d6b7df0>]"
      ]
     },
     "execution_count": 25,
     "metadata": {},
     "output_type": "execute_result"
    }
   ],
   "source": [
    "[map(times2, seqtwo)]"
   ]
  },
  {
   "cell_type": "code",
   "execution_count": null,
   "id": "8a5b83f3",
   "metadata": {},
   "outputs": [],
   "source": [
    "## Lambda expressions"
   ]
  },
  {
   "cell_type": "code",
   "execution_count": 26,
   "id": "9ee07cd0",
   "metadata": {},
   "outputs": [],
   "source": [
    "t = lambda var:var*2"
   ]
  },
  {
   "cell_type": "code",
   "execution_count": 27,
   "id": "0fae832e",
   "metadata": {},
   "outputs": [
    {
     "data": {
      "text/plain": [
       "12"
      ]
     },
     "execution_count": 27,
     "metadata": {},
     "output_type": "execute_result"
    }
   ],
   "source": [
    "t(6)"
   ]
  },
  {
   "cell_type": "code",
   "execution_count": 28,
   "id": "0794dc66",
   "metadata": {},
   "outputs": [
    {
     "data": {
      "text/plain": [
       "<map at 0x27e4d69f6d0>"
      ]
     },
     "execution_count": 28,
     "metadata": {},
     "output_type": "execute_result"
    }
   ],
   "source": [
    "seq_o = [3,4,5]\n",
    "(map(lambda num: num*3,seq_o))"
   ]
  },
  {
   "cell_type": "code",
   "execution_count": 29,
   "id": "39d5dd4c",
   "metadata": {},
   "outputs": [
    {
     "data": {
      "text/plain": [
       "[9, 12, 15]"
      ]
     },
     "execution_count": 29,
     "metadata": {},
     "output_type": "execute_result"
    }
   ],
   "source": [
    "list(map(lambda num: num*3,seq_o))"
   ]
  },
  {
   "cell_type": "markdown",
   "id": "99d47ff5",
   "metadata": {},
   "source": [
    "## Filter\n",
    "a filter must return a boolean value (true or false)"
   ]
  },
  {
   "cell_type": "code",
   "execution_count": 33,
   "id": "be22aa91",
   "metadata": {},
   "outputs": [
    {
     "data": {
      "text/plain": [
       "[-2, 2, 4]"
      ]
     },
     "execution_count": 33,
     "metadata": {},
     "output_type": "execute_result"
    }
   ],
   "source": [
    "seq_v = [-2,2,3,4,5]\n",
    "list(filter(lambda num: num%2 == 0,seq_v))"
   ]
  },
  {
   "cell_type": "code",
   "execution_count": 34,
   "id": "163bb3b4",
   "metadata": {},
   "outputs": [],
   "source": [
    "## Method"
   ]
  },
  {
   "cell_type": "code",
   "execution_count": 35,
   "id": "dac613e2",
   "metadata": {},
   "outputs": [
    {
     "data": {
      "text/plain": [
       "'Hello my name is teelur'"
      ]
     },
     "execution_count": 35,
     "metadata": {},
     "output_type": "execute_result"
    }
   ],
   "source": [
    "s = 'hello my name is teelur'\n",
    "s.capitalize()"
   ]
  },
  {
   "cell_type": "code",
   "execution_count": 36,
   "id": "d65f85fe",
   "metadata": {},
   "outputs": [
    {
     "data": {
      "text/plain": [
       "'hello my name is teelur'"
      ]
     },
     "execution_count": 36,
     "metadata": {},
     "output_type": "execute_result"
    }
   ],
   "source": [
    "# use parthensis to 'execute'\n",
    "s.lower()"
   ]
  },
  {
   "cell_type": "code",
   "execution_count": 37,
   "id": "9efdf7bb",
   "metadata": {},
   "outputs": [
    {
     "data": {
      "text/plain": [
       "<function str.lower()>"
      ]
     },
     "execution_count": 37,
     "metadata": {},
     "output_type": "execute_result"
    }
   ],
   "source": [
    "s.lower"
   ]
  },
  {
   "cell_type": "code",
   "execution_count": 38,
   "id": "a8ff758f",
   "metadata": {},
   "outputs": [
    {
     "data": {
      "text/plain": [
       "'HELLO MY NAME IS TEELUR'"
      ]
     },
     "execution_count": 38,
     "metadata": {},
     "output_type": "execute_result"
    }
   ],
   "source": [
    "s.upper()"
   ]
  },
  {
   "cell_type": "code",
   "execution_count": 39,
   "id": "5caf15a1",
   "metadata": {},
   "outputs": [
    {
     "data": {
      "text/plain": [
       "['hello', 'my', 'name', 'is', 'teelur']"
      ]
     },
     "execution_count": 39,
     "metadata": {},
     "output_type": "execute_result"
    }
   ],
   "source": [
    "# by default the split function splits on white spaces\n",
    "# helpful for text analysis later in notes\n",
    "s.split()"
   ]
  },
  {
   "cell_type": "code",
   "execution_count": 40,
   "id": "1cfe1f20",
   "metadata": {},
   "outputs": [
    {
     "data": {
      "text/plain": [
       "['Yay', 'sports,', '#sports', 'are', 'cool']"
      ]
     },
     "execution_count": 40,
     "metadata": {},
     "output_type": "execute_result"
    }
   ],
   "source": [
    "tweet = 'Yay sports, #sports are cool'\n",
    "tweet.split()"
   ]
  },
  {
   "cell_type": "code",
   "execution_count": 44,
   "id": "62c68d4f",
   "metadata": {},
   "outputs": [
    {
     "name": "stdout",
     "output_type": "stream",
     "text": [
      "sports are cool\n"
     ]
    }
   ],
   "source": [
    "hashtag_tweet = tweet.split('#')[1]\n",
    "print(hashtag_tweet)"
   ]
  },
  {
   "cell_type": "code",
   "execution_count": 45,
   "id": "9d4cc359",
   "metadata": {},
   "outputs": [
    {
     "data": {
      "text/plain": [
       "['sports', 'are', 'cool']"
      ]
     },
     "execution_count": 45,
     "metadata": {},
     "output_type": "execute_result"
    }
   ],
   "source": [
    "hashtag_tweet.split()"
   ]
  },
  {
   "cell_type": "code",
   "execution_count": 55,
   "id": "c9617447",
   "metadata": {},
   "outputs": [
    {
     "name": "stdout",
     "output_type": "stream",
     "text": [
      "{'k1': 1, 'k2': 2}\n"
     ]
    }
   ],
   "source": [
    "dictionary_tool = {'k1':1,'k2':2}\n",
    "print(dictionary_tool)"
   ]
  },
  {
   "cell_type": "code",
   "execution_count": 48,
   "id": "2e739d78",
   "metadata": {},
   "outputs": [
    {
     "data": {
      "text/plain": [
       "dict_items([('k1', 1), ('k2', 2)])"
      ]
     },
     "execution_count": 48,
     "metadata": {},
     "output_type": "execute_result"
    }
   ],
   "source": [
    "dictionary_tool.items()"
   ]
  },
  {
   "cell_type": "code",
   "execution_count": 57,
   "id": "ab9d355d",
   "metadata": {},
   "outputs": [
    {
     "data": {
      "text/plain": [
       "dict_keys(['k1'])"
      ]
     },
     "execution_count": 57,
     "metadata": {},
     "output_type": "execute_result"
    }
   ],
   "source": [
    "dictionary_tool.keys()"
   ]
  },
  {
   "cell_type": "code",
   "execution_count": null,
   "id": "ba24e6d1",
   "metadata": {},
   "outputs": [],
   "source": [
    "# The pop() method removes the element at the specified position.\n",
    "# you can pass a pop to another variable\n",
    "# pop can be used to remove an element and return that element to a variable\n",
    "dictionary_tool.pop('k2')\n",
    "# print to see element is not available in the dictionary\n",
    "print(dictionary_tool)"
   ]
  },
  {
   "cell_type": "code",
   "execution_count": 58,
   "id": "ba07312a",
   "metadata": {},
   "outputs": [
    {
     "data": {
      "text/plain": [
       "dict_values([1])"
      ]
     },
     "execution_count": 58,
     "metadata": {},
     "output_type": "execute_result"
    }
   ],
   "source": [
    "dictionary_tool.values()"
   ]
  },
  {
   "cell_type": "markdown",
   "id": "444cb1fe",
   "metadata": {},
   "source": [
    "## NumPy Arrays"
   ]
  },
  {
   "cell_type": "code",
   "execution_count": 59,
   "id": "9d43c972",
   "metadata": {},
   "outputs": [],
   "source": [
    "our_list = [1,2,3]\n",
    "import numpy as np"
   ]
  },
  {
   "cell_type": "code",
   "execution_count": 60,
   "id": "de6b72eb",
   "metadata": {},
   "outputs": [
    {
     "data": {
      "text/plain": [
       "array([1, 2, 3])"
      ]
     },
     "execution_count": 60,
     "metadata": {},
     "output_type": "execute_result"
    }
   ],
   "source": [
    "np.array(our_list)"
   ]
  },
  {
   "cell_type": "code",
   "execution_count": 61,
   "id": "ce8d4a8b",
   "metadata": {},
   "outputs": [],
   "source": [
    "arr = np.array(our_list)"
   ]
  },
  {
   "cell_type": "code",
   "execution_count": 62,
   "id": "a90d294d",
   "metadata": {},
   "outputs": [
    {
     "data": {
      "text/plain": [
       "array([1, 2, 3])"
      ]
     },
     "execution_count": 62,
     "metadata": {},
     "output_type": "execute_result"
    }
   ],
   "source": [
    "arr"
   ]
  },
  {
   "cell_type": "code",
   "execution_count": 63,
   "id": "3368f062",
   "metadata": {},
   "outputs": [],
   "source": [
    "my_mat = [[1,2,3],[4,5,6],[7,8,9]]"
   ]
  },
  {
   "cell_type": "code",
   "execution_count": 64,
   "id": "baaee033",
   "metadata": {},
   "outputs": [
    {
     "data": {
      "text/plain": [
       "[[1, 2, 3], [4, 5, 6], [7, 8, 9]]"
      ]
     },
     "execution_count": 64,
     "metadata": {},
     "output_type": "execute_result"
    }
   ],
   "source": [
    "my_mat"
   ]
  },
  {
   "cell_type": "code",
   "execution_count": 66,
   "id": "afbccac8",
   "metadata": {},
   "outputs": [
    {
     "data": {
      "text/plain": [
       "array([[1, 2, 3],\n",
       "       [4, 5, 6],\n",
       "       [7, 8, 9]])"
      ]
     },
     "execution_count": 66,
     "metadata": {},
     "output_type": "execute_result"
    }
   ],
   "source": [
    "np.array(my_mat)"
   ]
  },
  {
   "cell_type": "code",
   "execution_count": 67,
   "id": "e23cb722",
   "metadata": {},
   "outputs": [
    {
     "data": {
      "text/plain": [
       "array([0, 1, 2, 3, 4, 5, 6, 7, 8, 9])"
      ]
     },
     "execution_count": 67,
     "metadata": {},
     "output_type": "execute_result"
    }
   ],
   "source": [
    "np.arange(0,10)"
   ]
  },
  {
   "cell_type": "code",
   "execution_count": 68,
   "id": "fbbe87e1",
   "metadata": {},
   "outputs": [
    {
     "data": {
      "text/plain": [
       "array([ 0,  1,  2,  3,  4,  5,  6,  7,  8,  9, 10])"
      ]
     },
     "execution_count": 68,
     "metadata": {},
     "output_type": "execute_result"
    }
   ],
   "source": [
    "np.arange(0,11)"
   ]
  },
  {
   "cell_type": "code",
   "execution_count": 78,
   "id": "435c2d73",
   "metadata": {},
   "outputs": [
    {
     "data": {
      "text/plain": [
       "1"
      ]
     },
     "execution_count": 78,
     "metadata": {},
     "output_type": "execute_result"
    }
   ],
   "source": [
    "# calling index 1\n",
    "np.arange(0,10)[1]"
   ]
  },
  {
   "cell_type": "code",
   "execution_count": 77,
   "id": "c0717b91",
   "metadata": {},
   "outputs": [
    {
     "data": {
      "text/plain": [
       "array([ 1,  2,  3,  4,  5,  6,  7,  8,  9, 10])"
      ]
     },
     "execution_count": 77,
     "metadata": {},
     "output_type": "execute_result"
    }
   ],
   "source": [
    "# trimming from left side\n",
    "np.arange(0,11)[1:]"
   ]
  },
  {
   "cell_type": "code",
   "execution_count": 79,
   "id": "d4726749",
   "metadata": {},
   "outputs": [
    {
     "data": {
      "text/plain": [
       "array([0, 3, 6, 9])"
      ]
     },
     "execution_count": 79,
     "metadata": {},
     "output_type": "execute_result"
    }
   ],
   "source": [
    "np.arange(0,11,3)"
   ]
  },
  {
   "cell_type": "code",
   "execution_count": 80,
   "id": "3ee6b9b2",
   "metadata": {},
   "outputs": [
    {
     "data": {
      "text/plain": [
       "array([ 0,  2,  4,  6,  8, 10])"
      ]
     },
     "execution_count": 80,
     "metadata": {},
     "output_type": "execute_result"
    }
   ],
   "source": [
    "np.arange(0,11,2)"
   ]
  },
  {
   "cell_type": "code",
   "execution_count": 81,
   "id": "121c35a6",
   "metadata": {},
   "outputs": [
    {
     "data": {
      "text/plain": [
       "array([0., 0., 0.])"
      ]
     },
     "execution_count": 81,
     "metadata": {},
     "output_type": "execute_result"
    }
   ],
   "source": [
    "np.zeros(3)"
   ]
  },
  {
   "cell_type": "code",
   "execution_count": 83,
   "id": "63349e01",
   "metadata": {},
   "outputs": [
    {
     "data": {
      "text/plain": [
       "array([[0., 0., 0.],\n",
       "       [0., 0., 0.],\n",
       "       [0., 0., 0.]])"
      ]
     },
     "execution_count": 83,
     "metadata": {},
     "output_type": "execute_result"
    }
   ],
   "source": [
    "np.zeros((3,3))"
   ]
  },
  {
   "cell_type": "code",
   "execution_count": 84,
   "id": "0344dbca",
   "metadata": {},
   "outputs": [
    {
     "data": {
      "text/plain": [
       "array([[1., 1., 1.],\n",
       "       [1., 1., 1.],\n",
       "       [1., 1., 1.]])"
      ]
     },
     "execution_count": 84,
     "metadata": {},
     "output_type": "execute_result"
    }
   ],
   "source": [
    "np.ones((3,3))"
   ]
  },
  {
   "cell_type": "code",
   "execution_count": 85,
   "id": "7fda81df",
   "metadata": {},
   "outputs": [
    {
     "data": {
      "text/plain": [
       "array([[1., 1., 1., 1., 1., 1.],\n",
       "       [1., 1., 1., 1., 1., 1.],\n",
       "       [1., 1., 1., 1., 1., 1.],\n",
       "       [1., 1., 1., 1., 1., 1.],\n",
       "       [1., 1., 1., 1., 1., 1.]])"
      ]
     },
     "execution_count": 85,
     "metadata": {},
     "output_type": "execute_result"
    }
   ],
   "source": [
    "np.ones((5,6))"
   ]
  },
  {
   "cell_type": "code",
   "execution_count": 150,
   "id": "02f7a552",
   "metadata": {},
   "outputs": [
    {
     "data": {
      "text/plain": [
       "array([0.        , 0.02040816, 0.04081633, 0.06122449, 0.08163265,\n",
       "       0.10204082, 0.12244898, 0.14285714, 0.16326531, 0.18367347,\n",
       "       0.20408163, 0.2244898 , 0.24489796, 0.26530612, 0.28571429,\n",
       "       0.30612245, 0.32653061, 0.34693878, 0.36734694, 0.3877551 ,\n",
       "       0.40816327, 0.42857143, 0.44897959, 0.46938776, 0.48979592,\n",
       "       0.51020408, 0.53061224, 0.55102041, 0.57142857, 0.59183673,\n",
       "       0.6122449 , 0.63265306, 0.65306122, 0.67346939, 0.69387755,\n",
       "       0.71428571, 0.73469388, 0.75510204, 0.7755102 , 0.79591837,\n",
       "       0.81632653, 0.83673469, 0.85714286, 0.87755102, 0.89795918,\n",
       "       0.91836735, 0.93877551, 0.95918367, 0.97959184, 1.        ])"
      ]
     },
     "execution_count": 150,
     "metadata": {},
     "output_type": "execute_result"
    }
   ],
   "source": [
    "np.linspace(0,1,50)"
   ]
  },
  {
   "cell_type": "code",
   "execution_count": 93,
   "id": "179bcf3f",
   "metadata": {},
   "outputs": [
    {
     "data": {
      "text/plain": [
       "array([[1., 0., 0., 0., 0.],\n",
       "       [0., 1., 0., 0., 0.],\n",
       "       [0., 0., 1., 0., 0.],\n",
       "       [0., 0., 0., 1., 0.],\n",
       "       [0., 0., 0., 0., 1.]])"
      ]
     },
     "execution_count": 93,
     "metadata": {},
     "output_type": "execute_result"
    }
   ],
   "source": [
    "np.eye(5)"
   ]
  },
  {
   "cell_type": "code",
   "execution_count": 96,
   "id": "cb99113b",
   "metadata": {},
   "outputs": [
    {
     "data": {
      "text/plain": [
       "array([0.39555763, 0.19030175, 0.04008595, 0.96229853, 0.58049051])"
      ]
     },
     "execution_count": 96,
     "metadata": {},
     "output_type": "execute_result"
    }
   ],
   "source": [
    "np.random.rand(5)"
   ]
  },
  {
   "cell_type": "code",
   "execution_count": 136,
   "id": "997984e8",
   "metadata": {},
   "outputs": [
    {
     "name": "stdout",
     "output_type": "stream",
     "text": [
      "[[0.84287781 0.51847205 0.82898494 0.62560558 0.53235199]\n",
      " [0.76667026 0.41885981 0.99337379 0.22159391 0.13669792]\n",
      " [0.97067446 0.30492538 0.12149933 0.69581807 0.89746003]\n",
      " [0.04299687 0.44875492 0.16693166 0.03720444 0.64588208]\n",
      " [0.67203191 0.88509929 0.07555104 0.02733259 0.78219305]]\n"
     ]
    }
   ],
   "source": [
    "arr = np.random.rand(5,5)\n",
    "print(arr)"
   ]
  },
  {
   "cell_type": "code",
   "execution_count": 100,
   "id": "99d5bd1e",
   "metadata": {},
   "outputs": [
    {
     "data": {
      "text/plain": [
       "array([94, 36, 73, 21, 51, 70, 25, 19, 90, 77])"
      ]
     },
     "execution_count": 100,
     "metadata": {},
     "output_type": "execute_result"
    }
   ],
   "source": [
    "np.random.randint(1,100,10)"
   ]
  },
  {
   "cell_type": "code",
   "execution_count": 141,
   "id": "5aa6efb1",
   "metadata": {},
   "outputs": [
    {
     "data": {
      "text/plain": [
       "array([ 0,  1,  2,  3,  4,  5,  6,  7,  8,  9, 10, 11, 12, 13, 14, 15, 16,\n",
       "       17, 18, 19, 20, 21, 22, 23, 24])"
      ]
     },
     "execution_count": 141,
     "metadata": {},
     "output_type": "execute_result"
    }
   ],
   "source": [
    "np.arange(25)"
   ]
  },
  {
   "cell_type": "code",
   "execution_count": 158,
   "id": "3401055f",
   "metadata": {},
   "outputs": [],
   "source": [
    "ranarr = np.random.randint(0,200,10)"
   ]
  },
  {
   "cell_type": "code",
   "execution_count": 159,
   "id": "e6896b64",
   "metadata": {},
   "outputs": [
    {
     "name": "stdout",
     "output_type": "stream",
     "text": [
      "[ 79 160  16 174  31 191  92  88  68 158]\n"
     ]
    },
    {
     "data": {
      "text/plain": [
       "array([ 79, 160,  16, 174,  31, 191,  92,  88,  68])"
      ]
     },
     "execution_count": 159,
     "metadata": {},
     "output_type": "execute_result"
    }
   ],
   "source": [
    "print(ranarr)\n",
    "ranarr[0:-1]"
   ]
  },
  {
   "cell_type": "code",
   "execution_count": 143,
   "id": "4355b8d6",
   "metadata": {},
   "outputs": [
    {
     "data": {
      "text/plain": [
       "array([[0.84287781, 0.51847205, 0.82898494, 0.62560558, 0.53235199],\n",
       "       [0.76667026, 0.41885981, 0.99337379, 0.22159391, 0.13669792],\n",
       "       [0.97067446, 0.30492538, 0.12149933, 0.69581807, 0.89746003],\n",
       "       [0.04299687, 0.44875492, 0.16693166, 0.03720444, 0.64588208],\n",
       "       [0.67203191, 0.88509929, 0.07555104, 0.02733259, 0.78219305]])"
      ]
     },
     "execution_count": 143,
     "metadata": {},
     "output_type": "execute_result"
    }
   ],
   "source": [
    "# number of rows * number of columns must be the same as np.arange above\n",
    "arr.reshape(5,5)"
   ]
  },
  {
   "cell_type": "code",
   "execution_count": 163,
   "id": "ca90a960",
   "metadata": {},
   "outputs": [
    {
     "data": {
      "text/plain": [
       "5"
      ]
     },
     "execution_count": 163,
     "metadata": {},
     "output_type": "execute_result"
    }
   ],
   "source": [
    "ranarr.max()\n",
    "ranarr.argmax()\n"
   ]
  },
  {
   "cell_type": "code",
   "execution_count": 161,
   "id": "d5fd87c2",
   "metadata": {},
   "outputs": [
    {
     "data": {
      "text/plain": [
       "2"
      ]
     },
     "execution_count": 161,
     "metadata": {},
     "output_type": "execute_result"
    }
   ],
   "source": [
    "ranarr.min()\n",
    "ranarr.argmin()\n"
   ]
  },
  {
   "cell_type": "code",
   "execution_count": 162,
   "id": "3872fd99",
   "metadata": {},
   "outputs": [
    {
     "data": {
      "text/plain": [
       "1057"
      ]
     },
     "execution_count": 162,
     "metadata": {},
     "output_type": "execute_result"
    }
   ],
   "source": [
    "ranarr.sum()\n"
   ]
  },
  {
   "cell_type": "code",
   "execution_count": 164,
   "id": "9bb2f74f",
   "metadata": {},
   "outputs": [
    {
     "data": {
      "text/plain": [
       "(10,)"
      ]
     },
     "execution_count": 164,
     "metadata": {},
     "output_type": "execute_result"
    }
   ],
   "source": [
    "ranarr.shape"
   ]
  },
  {
   "cell_type": "code",
   "execution_count": 165,
   "id": "354c002f",
   "metadata": {},
   "outputs": [
    {
     "data": {
      "text/plain": [
       "(5, 5)"
      ]
     },
     "execution_count": 165,
     "metadata": {},
     "output_type": "execute_result"
    }
   ],
   "source": [
    "arr.shape"
   ]
  },
  {
   "cell_type": "code",
   "execution_count": 166,
   "id": "a7b49c9d",
   "metadata": {},
   "outputs": [
    {
     "data": {
      "text/plain": [
       "array([0.84287781, 0.51847205, 0.82898494, 0.62560558, 0.53235199,\n",
       "       0.76667026, 0.41885981, 0.99337379, 0.22159391, 0.13669792,\n",
       "       0.97067446, 0.30492538, 0.12149933, 0.69581807, 0.89746003,\n",
       "       0.04299687, 0.44875492, 0.16693166, 0.03720444, 0.64588208,\n",
       "       0.67203191, 0.88509929, 0.07555104, 0.02733259, 0.78219305])"
      ]
     },
     "execution_count": 166,
     "metadata": {},
     "output_type": "execute_result"
    }
   ],
   "source": [
    "arr.reshape(25,)"
   ]
  },
  {
   "cell_type": "code",
   "execution_count": 167,
   "id": "77fef151",
   "metadata": {},
   "outputs": [
    {
     "data": {
      "text/plain": [
       "array([[0.84287781, 0.51847205, 0.82898494, 0.62560558, 0.53235199],\n",
       "       [0.76667026, 0.41885981, 0.99337379, 0.22159391, 0.13669792],\n",
       "       [0.97067446, 0.30492538, 0.12149933, 0.69581807, 0.89746003],\n",
       "       [0.04299687, 0.44875492, 0.16693166, 0.03720444, 0.64588208],\n",
       "       [0.67203191, 0.88509929, 0.07555104, 0.02733259, 0.78219305]])"
      ]
     },
     "execution_count": 167,
     "metadata": {},
     "output_type": "execute_result"
    }
   ],
   "source": [
    "arr.reshape(5,5)"
   ]
  },
  {
   "cell_type": "code",
   "execution_count": 168,
   "id": "32dda094",
   "metadata": {},
   "outputs": [
    {
     "data": {
      "text/plain": [
       "dtype('float64')"
      ]
     },
     "execution_count": 168,
     "metadata": {},
     "output_type": "execute_result"
    }
   ],
   "source": [
    "arr.dtype"
   ]
  },
  {
   "cell_type": "code",
   "execution_count": 169,
   "id": "aab79b28",
   "metadata": {},
   "outputs": [],
   "source": [
    "from numpy.random import randint"
   ]
  },
  {
   "cell_type": "code",
   "execution_count": 170,
   "id": "691622eb",
   "metadata": {},
   "outputs": [
    {
     "data": {
      "text/plain": [
       "16"
      ]
     },
     "execution_count": 170,
     "metadata": {},
     "output_type": "execute_result"
    }
   ],
   "source": [
    "randint(2,20)"
   ]
  },
  {
   "cell_type": "code",
   "execution_count": 171,
   "id": "b2c96718",
   "metadata": {},
   "outputs": [],
   "source": [
    "## NumpPy Indexing and Selection"
   ]
  },
  {
   "cell_type": "code",
   "execution_count": 172,
   "id": "7ddec078",
   "metadata": {},
   "outputs": [],
   "source": [
    "import numpy as np"
   ]
  },
  {
   "cell_type": "code",
   "execution_count": 175,
   "id": "232202f7",
   "metadata": {},
   "outputs": [],
   "source": [
    "# create array in numpy using arange()\n",
    "arr = np.arange(0,11)"
   ]
  },
  {
   "cell_type": "code",
   "execution_count": 176,
   "id": "d98a8d6e",
   "metadata": {},
   "outputs": [
    {
     "data": {
      "text/plain": [
       "array([ 0,  1,  2,  3,  4,  5,  6,  7,  8,  9, 10])"
      ]
     },
     "execution_count": 176,
     "metadata": {},
     "output_type": "execute_result"
    }
   ],
   "source": [
    "arr"
   ]
  },
  {
   "cell_type": "code",
   "execution_count": 177,
   "id": "f6794a90",
   "metadata": {},
   "outputs": [
    {
     "data": {
      "text/plain": [
       "2"
      ]
     },
     "execution_count": 177,
     "metadata": {},
     "output_type": "execute_result"
    }
   ],
   "source": [
    "# get value at index2\n",
    "arr[2]"
   ]
  },
  {
   "cell_type": "code",
   "execution_count": 178,
   "id": "514be83b",
   "metadata": {},
   "outputs": [
    {
     "data": {
      "text/plain": [
       "array([0, 1])"
      ]
     },
     "execution_count": 178,
     "metadata": {},
     "output_type": "execute_result"
    }
   ],
   "source": [
    "arr[:2]"
   ]
  },
  {
   "cell_type": "code",
   "execution_count": 179,
   "id": "3284edf2",
   "metadata": {},
   "outputs": [
    {
     "data": {
      "text/plain": [
       "array([0, 1, 2, 3, 4, 5, 6, 7, 8])"
      ]
     },
     "execution_count": 179,
     "metadata": {},
     "output_type": "execute_result"
    }
   ],
   "source": [
    "arr[:-2]"
   ]
  },
  {
   "cell_type": "code",
   "execution_count": 180,
   "id": "6ad1fbe8",
   "metadata": {},
   "outputs": [
    {
     "data": {
      "text/plain": [
       "array([ 2,  3,  4,  5,  6,  7,  8,  9, 10])"
      ]
     },
     "execution_count": 180,
     "metadata": {},
     "output_type": "execute_result"
    }
   ],
   "source": [
    "arr[2:]"
   ]
  },
  {
   "cell_type": "code",
   "execution_count": 181,
   "id": "b21999ed",
   "metadata": {},
   "outputs": [
    {
     "data": {
      "text/plain": [
       "array([ 9, 10])"
      ]
     },
     "execution_count": 181,
     "metadata": {},
     "output_type": "execute_result"
    }
   ],
   "source": [
    "arr[-2:]"
   ]
  },
  {
   "cell_type": "code",
   "execution_count": 190,
   "id": "6f19ec13",
   "metadata": {},
   "outputs": [
    {
     "data": {
      "text/plain": [
       "array([ 0,  0,  0,  0,  0,  5,  6,  7,  8,  9, 10])"
      ]
     },
     "execution_count": 190,
     "metadata": {},
     "output_type": "execute_result"
    }
   ],
   "source": [
    "# numpy array is different in this realm as it allows you to broadcast..\n",
    "arr[0:5] = '0'\n",
    "arr"
   ]
  },
  {
   "cell_type": "code",
   "execution_count": 192,
   "id": "a857ade8",
   "metadata": {},
   "outputs": [
    {
     "data": {
      "text/plain": [
       "array([ 0,  1,  2,  3,  4,  5,  6,  7,  8,  9, 10])"
      ]
     },
     "execution_count": 192,
     "metadata": {},
     "output_type": "execute_result"
    }
   ],
   "source": [
    "arr = np.arange(0,11)\n",
    "arr"
   ]
  },
  {
   "cell_type": "code",
   "execution_count": 193,
   "id": "6aeec27e",
   "metadata": {},
   "outputs": [
    {
     "data": {
      "text/plain": [
       "array([0, 1, 2, 3, 4, 5])"
      ]
     },
     "execution_count": 193,
     "metadata": {},
     "output_type": "execute_result"
    }
   ],
   "source": [
    "slice_of_arr = arr[0:6]\n",
    "slice_of_arr"
   ]
  },
  {
   "cell_type": "code",
   "execution_count": 195,
   "id": "1a8470eb",
   "metadata": {},
   "outputs": [
    {
     "data": {
      "text/plain": [
       "array([99, 99, 99, 99, 99, 99])"
      ]
     },
     "execution_count": 195,
     "metadata": {},
     "output_type": "execute_result"
    }
   ],
   "source": [
    "slice_of_arr[:] = 99\n",
    "slice_of_arr"
   ]
  },
  {
   "cell_type": "code",
   "execution_count": 196,
   "id": "9e99e6f7",
   "metadata": {},
   "outputs": [
    {
     "data": {
      "text/plain": [
       "array([99, 99, 99, 99, 99, 99,  6,  7,  8,  9, 10])"
      ]
     },
     "execution_count": 196,
     "metadata": {},
     "output_type": "execute_result"
    }
   ],
   "source": [
    "# slice of arr above shows a \"view\" of the original array\n",
    "# and changes the original array \n",
    "arr"
   ]
  },
  {
   "cell_type": "code",
   "execution_count": 199,
   "id": "90e95dee",
   "metadata": {},
   "outputs": [
    {
     "data": {
      "text/plain": [
       "array([100, 100, 100, 100, 100, 100, 100, 100, 100, 100, 100])"
      ]
     },
     "execution_count": 199,
     "metadata": {},
     "output_type": "execute_result"
    }
   ],
   "source": [
    "arr_copy = arr.copy()\n",
    "arr_copy[:] = 100\n",
    "arr_copy"
   ]
  },
  {
   "cell_type": "code",
   "execution_count": 200,
   "id": "fc2cec54",
   "metadata": {},
   "outputs": [
    {
     "data": {
      "text/plain": [
       "array([99, 99, 99, 99, 99, 99,  6,  7,  8,  9, 10])"
      ]
     },
     "execution_count": 200,
     "metadata": {},
     "output_type": "execute_result"
    }
   ],
   "source": [
    "# changes we do without .copy() make changes to the original array\n",
    "# because arr_copy above is a .copy() we won't see 100's repeated below\n",
    "arr"
   ]
  },
  {
   "cell_type": "markdown",
   "id": "dfbc7597",
   "metadata": {},
   "source": [
    "## NumPy Indexing and Selection"
   ]
  },
  {
   "cell_type": "code",
   "execution_count": 201,
   "id": "2a221a7e",
   "metadata": {},
   "outputs": [
    {
     "data": {
      "text/plain": [
       "array([[ 5, 10, 15],\n",
       "       [20, 25, 30],\n",
       "       [35, 40, 45]])"
      ]
     },
     "execution_count": 201,
     "metadata": {},
     "output_type": "execute_result"
    }
   ],
   "source": [
    "arr_2d = np.array([[5,10,15],[20,25,30],[35,40,45]])\n",
    "arr_2d"
   ]
  },
  {
   "cell_type": "code",
   "execution_count": 202,
   "id": "57bb71e1",
   "metadata": {},
   "outputs": [
    {
     "data": {
      "text/plain": [
       "5"
      ]
     },
     "execution_count": 202,
     "metadata": {},
     "output_type": "execute_result"
    }
   ],
   "source": [
    "# double bracket format\n",
    "# index starts at 'zero'\n",
    "arr_2d[0][0]"
   ]
  },
  {
   "cell_type": "code",
   "execution_count": 204,
   "id": "4f453b1e",
   "metadata": {},
   "outputs": [
    {
     "data": {
      "text/plain": [
       "25"
      ]
     },
     "execution_count": 204,
     "metadata": {},
     "output_type": "execute_result"
    }
   ],
   "source": [
    "arr_2d[1][1]"
   ]
  },
  {
   "cell_type": "code",
   "execution_count": 207,
   "id": "c136a938",
   "metadata": {},
   "outputs": [
    {
     "data": {
      "text/plain": [
       "array([ 5, 10, 15])"
      ]
     },
     "execution_count": 207,
     "metadata": {},
     "output_type": "execute_result"
    }
   ],
   "source": [
    "arr_2d[0]"
   ]
  },
  {
   "cell_type": "code",
   "execution_count": 208,
   "id": "fc3a7e7c",
   "metadata": {},
   "outputs": [
    {
     "data": {
      "text/plain": [
       "40"
      ]
     },
     "execution_count": 208,
     "metadata": {},
     "output_type": "execute_result"
    }
   ],
   "source": [
    "arr_2d[2][1]"
   ]
  },
  {
   "cell_type": "code",
   "execution_count": 209,
   "id": "b30cc092",
   "metadata": {},
   "outputs": [
    {
     "data": {
      "text/plain": [
       "array([[10, 15],\n",
       "       [25, 30]])"
      ]
     },
     "execution_count": 209,
     "metadata": {},
     "output_type": "execute_result"
    }
   ],
   "source": [
    "# slice notation along with single brackets comma indexing notation\n",
    "# with numpy to grab subsections of the array\n",
    "arr_2d[:2,1:]"
   ]
  },
  {
   "cell_type": "code",
   "execution_count": 210,
   "id": "f912f7a4",
   "metadata": {},
   "outputs": [
    {
     "data": {
      "text/plain": [
       "array([[ 5, 10, 15],\n",
       "       [20, 25, 30]])"
      ]
     },
     "execution_count": 210,
     "metadata": {},
     "output_type": "execute_result"
    }
   ],
   "source": [
    "arr_2d[:2]"
   ]
  },
  {
   "cell_type": "code",
   "execution_count": 228,
   "id": "7007197b",
   "metadata": {},
   "outputs": [
    {
     "data": {
      "text/plain": [
       "array([[15],\n",
       "       [30],\n",
       "       [45]])"
      ]
     },
     "execution_count": 228,
     "metadata": {},
     "output_type": "execute_result"
    }
   ],
   "source": [
    "arr_2d[:,-1:]"
   ]
  },
  {
   "cell_type": "code",
   "execution_count": 229,
   "id": "d6e01b01",
   "metadata": {},
   "outputs": [
    {
     "data": {
      "text/plain": [
       "array([[ 5],\n",
       "       [20],\n",
       "       [35]])"
      ]
     },
     "execution_count": 229,
     "metadata": {},
     "output_type": "execute_result"
    }
   ],
   "source": [
    "arr_2d[:,:1]"
   ]
  },
  {
   "cell_type": "code",
   "execution_count": 230,
   "id": "2eee3ff7",
   "metadata": {},
   "outputs": [
    {
     "data": {
      "text/plain": [
       "array([[ 5, 10, 15]])"
      ]
     },
     "execution_count": 230,
     "metadata": {},
     "output_type": "execute_result"
    }
   ],
   "source": [
    "arr_2d[:1,:]"
   ]
  },
  {
   "cell_type": "code",
   "execution_count": 234,
   "id": "9e20347e",
   "metadata": {},
   "outputs": [
    {
     "data": {
      "text/plain": [
       "array([[35, 40, 45]])"
      ]
     },
     "execution_count": 234,
     "metadata": {},
     "output_type": "execute_result"
    }
   ],
   "source": [
    "arr_2d[-1:,:]"
   ]
  },
  {
   "cell_type": "code",
   "execution_count": 235,
   "id": "a6e1a20b",
   "metadata": {},
   "outputs": [],
   "source": [
    "narr = np.arange(1,11)"
   ]
  },
  {
   "cell_type": "code",
   "execution_count": 236,
   "id": "e4a6fd04",
   "metadata": {},
   "outputs": [
    {
     "data": {
      "text/plain": [
       "array([ 1,  2,  3,  4,  5,  6,  7,  8,  9, 10])"
      ]
     },
     "execution_count": 236,
     "metadata": {},
     "output_type": "execute_result"
    }
   ],
   "source": [
    "narr"
   ]
  },
  {
   "cell_type": "code",
   "execution_count": 239,
   "id": "93c3db09",
   "metadata": {},
   "outputs": [],
   "source": [
    "bool_arr = narr > 5"
   ]
  },
  {
   "cell_type": "code",
   "execution_count": 244,
   "id": "b36103e0",
   "metadata": {},
   "outputs": [
    {
     "data": {
      "text/plain": [
       "array([ 6,  7,  8,  9, 10])"
      ]
     },
     "execution_count": 244,
     "metadata": {},
     "output_type": "execute_result"
    }
   ],
   "source": [
    "# Use boolean array to conditional select elements based on the condition\n",
    "# it only returns instances based on it being TRUE\n",
    "narr[bool_arr]"
   ]
  },
  {
   "cell_type": "code",
   "execution_count": 245,
   "id": "4de0ed2c",
   "metadata": {},
   "outputs": [
    {
     "data": {
      "text/plain": [
       "array([ 6,  7,  8,  9, 10])"
      ]
     },
     "execution_count": 245,
     "metadata": {},
     "output_type": "execute_result"
    }
   ],
   "source": [
    "# better to do it all in one step\n",
    "# pass conditional statement in the []\n",
    "# syntax notation, conditional selection\n",
    "narr[narr>5]"
   ]
  },
  {
   "cell_type": "code",
   "execution_count": 246,
   "id": "63b57830",
   "metadata": {},
   "outputs": [
    {
     "data": {
      "text/plain": [
       "array([1, 2, 3, 4, 5, 6, 7, 8])"
      ]
     },
     "execution_count": 246,
     "metadata": {},
     "output_type": "execute_result"
    }
   ],
   "source": [
    "# conditional statement passes a boolean array of true and selects elements where true\n",
    "narr[narr<9]"
   ]
  },
  {
   "cell_type": "code",
   "execution_count": 247,
   "id": "4dc93754",
   "metadata": {},
   "outputs": [
    {
     "data": {
      "text/plain": [
       "array([1, 2])"
      ]
     },
     "execution_count": 247,
     "metadata": {},
     "output_type": "execute_result"
    }
   ],
   "source": [
    "narr[narr<3]"
   ]
  },
  {
   "cell_type": "code",
   "execution_count": null,
   "id": "62329b70",
   "metadata": {},
   "outputs": [],
   "source": []
  }
 ],
 "metadata": {
  "kernelspec": {
   "display_name": "Python 3",
   "language": "python",
   "name": "python3"
  },
  "language_info": {
   "codemirror_mode": {
    "name": "ipython",
    "version": 3
   },
   "file_extension": ".py",
   "mimetype": "text/x-python",
   "name": "python",
   "nbconvert_exporter": "python",
   "pygments_lexer": "ipython3",
   "version": "3.8.8"
  }
 },
 "nbformat": 4,
 "nbformat_minor": 5
}
